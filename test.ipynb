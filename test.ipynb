{
 "cells": [
  {
   "cell_type": "code",
   "execution_count": 119,
   "metadata": {},
   "outputs": [],
   "source": [
    "import numpy as np\n",
    "\n",
    "class Complex:\n",
    "\n",
    "    def __init__(self, a, b):\n",
    "\n",
    "        self.real = a\n",
    "        self.imag = b\n",
    "\n",
    "    def mag(self):\n",
    "        \n",
    "        return np.sqrt(self.real**2+self.imag**2)\n",
    "    \n",
    "    def multiply(self, a):\n",
    "\n",
    "        self.real *= a\n",
    "        self.imag *= a\n",
    "\n",
    "def Real(a):\n",
    "    return Complex(a,0)       \n",
    "\n",
    "\n",
    "def dot(c1, c2):\n",
    "    return Complex(c1.real*c2.real-c1.imag*c2.imag, c1.real*c2.imag+c1.imag*c2.real)\n",
    "\n",
    "def conjugate(c):\n",
    "    c.imag *= -1\n",
    "    return c\n",
    "\n",
    "def add(c1, c2):\n",
    "    return Complex(c1.real+c2.real, c1.imag+c2.imag)\n",
    "\n",
    "def sub(c1, c2):\n",
    "    return Complex(c1.real-c2.real, c1.imag-c2.imag)"
   ]
  },
  {
   "cell_type": "code",
   "execution_count": 120,
   "metadata": {},
   "outputs": [],
   "source": [
    "# let z be a complex number\n",
    "def f(z,c):\n",
    "    # z²+1\n",
    "    return add(dot(z,z), c)"
   ]
  },
  {
   "cell_type": "code",
   "execution_count": 169,
   "metadata": {},
   "outputs": [],
   "source": [
    "c=Complex(-1,0)\n",
    "z=Complex(0,0)"
   ]
  },
  {
   "cell_type": "code",
   "execution_count": 175,
   "metadata": {},
   "outputs": [
    {
     "name": "stdout",
     "output_type": "stream",
     "text": [
      "0 0\n"
     ]
    }
   ],
   "source": [
    "\n",
    "z=f(z,c)\n",
    "print(z.real, z.imag)"
   ]
  }
 ],
 "metadata": {
  "interpreter": {
   "hash": "916dbcbb3f70747c44a77c7bcd40155683ae19c65e1c03b4aa3499c5328201f1"
  },
  "kernelspec": {
   "display_name": "Python 3.8.10 64-bit",
   "language": "python",
   "name": "python3"
  },
  "language_info": {
   "codemirror_mode": {
    "name": "ipython",
    "version": 3
   },
   "file_extension": ".py",
   "mimetype": "text/x-python",
   "name": "python",
   "nbconvert_exporter": "python",
   "pygments_lexer": "ipython3",
   "version": "3.8.10"
  },
  "orig_nbformat": 4
 },
 "nbformat": 4,
 "nbformat_minor": 2
}
